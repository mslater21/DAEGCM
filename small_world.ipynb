{
  "nbformat": 4,
  "nbformat_minor": 0,
  "metadata": {
    "colab": {
      "provenance": [],
      "authorship_tag": "ABX9TyOzRZi5UXHfQr7kvYdv188U"
    },
    "kernelspec": {
      "name": "python3",
      "display_name": "Python 3"
    },
    "language_info": {
      "name": "python"
    }
  },
  "cells": [
    {
      "cell_type": "code",
      "execution_count": 1,
      "metadata": {
        "id": "jrn2Gd2elsA8"
      },
      "outputs": [],
      "source": [
        "import networkx as nx\n",
        "import pandas as pd\n",
        "import matplotlib.pyplot as plt\n",
        "import numpy as np"
      ]
    },
    {
      "cell_type": "code",
      "source": [
        "characters = pd.read_csv('marvel_characters.csv')\n",
        "titles = pd.read_csv('marvel_titles.csv')"
      ],
      "metadata": {
        "id": "Yt1XbrA8mvBY"
      },
      "execution_count": 2,
      "outputs": []
    },
    {
      "cell_type": "code",
      "source": [
        "G = nx.Graph()"
      ],
      "metadata": {
        "id": "MiW6zzNPnl-0"
      },
      "execution_count": 3,
      "outputs": []
    },
    {
      "cell_type": "code",
      "source": [
        "for index, row in titles.iterrows():\n",
        "  G.add_node(row['title'] + '*', bipartite=0, media_type=row['type'], release_year=row['release_year'], release_month=row['release_month'], release_day=row['release_day'], rating=row['rating'], length=row['length'], starts=row['stars'], genres=row['genres'])"
      ],
      "metadata": {
        "id": "FieqyxcVnod8"
      },
      "execution_count": 4,
      "outputs": []
    },
    {
      "cell_type": "code",
      "source": [
        "for index, row in characters.iterrows():\n",
        "  if row['title'] == 'What If...?':\n",
        "    char_name = row['character'] + '-AR'\n",
        "  else:\n",
        "    char_name = row['character']\n",
        "  G.add_node(char_name, bipartite=1, alias=row['character_alias'], actor=row['actor'])"
      ],
      "metadata": {
        "id": "uyqdPiS8pAFN"
      },
      "execution_count": 5,
      "outputs": []
    },
    {
      "cell_type": "code",
      "source": [
        "for index, row in characters.iterrows():\n",
        "  if row['title'] == 'What If...?':\n",
        "    char_name = row['character'] + '-AR'\n",
        "  else:\n",
        "    char_name = row['character']\n",
        "  G.add_edge(row['title'] + '*', char_name)"
      ],
      "metadata": {
        "id": "snuFuUOIpXI4"
      },
      "execution_count": 6,
      "outputs": []
    },
    {
      "cell_type": "code",
      "source": [
        "character_nodes = {n for n, d in G.nodes(data=True) if d['bipartite'] == 1}\n",
        "title_nodes = set(G) - character_nodes"
      ],
      "metadata": {
        "id": "XlHIZ_Cipo0I"
      },
      "execution_count": 8,
      "outputs": []
    },
    {
      "cell_type": "code",
      "source": [
        "nx.is_bipartite(G)"
      ],
      "metadata": {
        "colab": {
          "base_uri": "https://localhost:8080/"
        },
        "id": "DaU6tesryz7h",
        "outputId": "83ac357a-83ef-48d1-fffd-ee6fcedd7202"
      },
      "execution_count": 9,
      "outputs": [
        {
          "output_type": "execute_result",
          "data": {
            "text/plain": [
              "True"
            ]
          },
          "metadata": {},
          "execution_count": 9
        }
      ]
    },
    {
      "cell_type": "code",
      "source": [
        "G_char = nx.bipartite.projected_graph(G, character_nodes)\n",
        "print(G_char)"
      ],
      "metadata": {
        "colab": {
          "base_uri": "https://localhost:8080/"
        },
        "id": "pmn4MbFKJISS",
        "outputId": "8e5de243-8ff2-4eda-855a-521e479695dd"
      },
      "execution_count": 10,
      "outputs": [
        {
          "output_type": "stream",
          "name": "stdout",
          "text": [
            "Graph with 794 nodes and 14793 edges\n"
          ]
        }
      ]
    },
    {
      "cell_type": "code",
      "source": [
        "c = int(np.round(sum([d for (n,d) in nx.degree(G_char)]) / G_char.number_of_nodes()))\n",
        "clustering = nx.average_clustering(G_char)"
      ],
      "metadata": {
        "id": "5ghjfNu1TRbG"
      },
      "execution_count": 11,
      "outputs": []
    },
    {
      "cell_type": "code",
      "source": [
        "small_world = nx.Graph()\n",
        "for i in range(G_char.number_of_nodes()):\n",
        "  small_world.add_node(i)\n",
        "  if small_world.number_of_nodes() > 1:\n",
        "    small_world.add_edge(list(small_world.nodes)[-1], list(small_world.nodes)[-2])\n",
        "small_world.add_edge(list(small_world.nodes)[-1], list(small_world.nodes)[0])\n",
        "\n",
        "if c % 2 == 0:\n",
        "  k = c\n",
        "else:\n",
        "  k = c - 1\n"
      ],
      "metadata": {
        "id": "BcvHym_DTRbG"
      },
      "execution_count": 12,
      "outputs": []
    },
    {
      "cell_type": "code",
      "source": [
        "print(small_world)"
      ],
      "metadata": {
        "colab": {
          "base_uri": "https://localhost:8080/"
        },
        "id": "yCKClUkeYTEG",
        "outputId": "57b578e5-3d90-4de4-9a25-3ad8e9644104"
      },
      "execution_count": 13,
      "outputs": [
        {
          "output_type": "stream",
          "name": "stdout",
          "text": [
            "Graph with 794 nodes and 794 edges\n"
          ]
        }
      ]
    },
    {
      "cell_type": "code",
      "source": [
        "# Create lattice\n",
        "size = int(k/2)\n",
        "num_nodes = small_world.number_of_nodes()\n",
        "for node in list(small_world.nodes()):\n",
        "  for i in range(1, size + 1):\n",
        "    if small_world.has_edge(node, node - i) is False and node - i > 0:\n",
        "      small_world.add_edge(node, node - i)\n",
        "  for i in range(1, size + 1):\n",
        "    if node + i < num_nodes:\n",
        "      if small_world.has_edge(node, node + i) is False:\n",
        "        small_world.add_edge(node, node + i)\n",
        "    else:\n",
        "      target = node + i - num_nodes\n",
        "      if small_world.has_edge(node, target) is False:\n",
        "        small_world.add_edge(node, target)"
      ],
      "metadata": {
        "id": "7pmVxfJkTRbG"
      },
      "execution_count": 14,
      "outputs": []
    },
    {
      "cell_type": "code",
      "source": [
        "print(small_world)"
      ],
      "metadata": {
        "colab": {
          "base_uri": "https://localhost:8080/"
        },
        "id": "QK4ATO8FYbBY",
        "outputId": "77bbbbe3-3b30-43d5-84ee-882f5d87279f"
      },
      "execution_count": 15,
      "outputs": [
        {
          "output_type": "stream",
          "name": "stdout",
          "text": [
            "Graph with 794 nodes and 14292 edges\n"
          ]
        }
      ]
    },
    {
      "cell_type": "code",
      "source": [
        "# Calculate p (beta)\n",
        "c0 = nx.average_clustering(small_world)\n",
        "C = nx.average_clustering(G_char)\n",
        "p = 1 - (C/c0)**(1/3)\n",
        "print(p)"
      ],
      "metadata": {
        "colab": {
          "base_uri": "https://localhost:8080/"
        },
        "outputId": "0834a09b-646c-433f-ef5d-c7c734a71462",
        "id": "16NN_vFcTRbG"
      },
      "execution_count": 16,
      "outputs": [
        {
          "output_type": "stream",
          "name": "stdout",
          "text": [
            "-0.08457597156109453\n"
          ]
        }
      ]
    },
    {
      "cell_type": "code",
      "source": [
        "# Rewire\n",
        "from numpy.random import choice\n",
        "from random import random\n",
        "node_list = list(small_world.nodes())\n",
        "for node in list(small_world.nodes()):\n",
        "  counter = 0\n",
        "  for edge in small_world.edges(node):\n",
        "    counter += 1\n",
        "    if (edge[0] == node and edge[1] > node) or (edge[1] == node and edge[0] > node):\n",
        "      target = choice(node_list)\n",
        "      if target != node and small_world.has_edge(node, target) is False:\n",
        "        if random() < p:\n",
        "          counter += 1\n",
        "          small_world.remove_edge(edge[0], edge[1])\n",
        "          small_world.add_edge(node, target)\n",
        "  # print(counter)\n"
      ],
      "metadata": {
        "id": "HJzQiOB3TRbG"
      },
      "execution_count": 17,
      "outputs": []
    },
    {
      "cell_type": "code",
      "source": [
        "# Clustering Coefficient\n",
        "print('Real:', nx.average_clustering(G_char))\n",
        "print('Simulated:', nx.average_clustering(small_world))"
      ],
      "metadata": {
        "colab": {
          "base_uri": "https://localhost:8080/"
        },
        "outputId": "2ed6247e-9a7c-4e73-fedf-7df81a473ff7",
        "id": "Rvjf9Vt7TRbH"
      },
      "execution_count": 18,
      "outputs": [
        {
          "output_type": "stream",
          "name": "stdout",
          "text": [
            "Real: 0.9295057308049338\n",
            "Simulated: 0.7285714285714371\n"
          ]
        }
      ]
    },
    {
      "cell_type": "code",
      "source": [
        "# Average Degree\n",
        "print('Real:', sum([d for (n,d) in nx.degree(G_char)]) / G_char.number_of_nodes())\n",
        "print('Simulated:', sum([d for (n,d) in nx.degree(small_world)]) / small_world.number_of_nodes())"
      ],
      "metadata": {
        "colab": {
          "base_uri": "https://localhost:8080/"
        },
        "outputId": "0af00faf-eff0-4885-a96d-e5d31e83d8c4",
        "id": "ZUT-xal-TRbH"
      },
      "execution_count": 19,
      "outputs": [
        {
          "output_type": "stream",
          "name": "stdout",
          "text": [
            "Real: 37.26196473551637\n",
            "Simulated: 36.0\n"
          ]
        }
      ]
    },
    {
      "cell_type": "code",
      "source": [
        "#Diameter of largest component\n",
        "components = sorted(nx.connected_components(small_world), key=len, reverse=True)\n",
        "diameter = nx.diameter(small_world.subgraph(components[0]))\n",
        "print('Diameter of largest connected component:', diameter)"
      ],
      "metadata": {
        "colab": {
          "base_uri": "https://localhost:8080/"
        },
        "id": "KAS1a2iILLsF",
        "outputId": "8039bf61-6644-487f-986c-b66c181d04a0"
      },
      "execution_count": 21,
      "outputs": [
        {
          "output_type": "stream",
          "name": "stdout",
          "text": [
            "Diameter of largest connected component: 23\n"
          ]
        }
      ]
    },
    {
      "cell_type": "code",
      "source": [
        "# Average shortest path length of largest component\n",
        "components = sorted(nx.connected_components(small_world), key=len, reverse=True)\n",
        "nx.average_shortest_path_length(small_world.subgraph(components[0]))"
      ],
      "metadata": {
        "colab": {
          "base_uri": "https://localhost:8080/"
        },
        "id": "P43uicL7OHQ5",
        "outputId": "3206e34a-3edb-4c73-ac63-324c3f48a275"
      },
      "execution_count": 22,
      "outputs": [
        {
          "output_type": "execute_result",
          "data": {
            "text/plain": [
              "11.514501891551072"
            ]
          },
          "metadata": {},
          "execution_count": 22
        }
      ]
    }
  ]
}